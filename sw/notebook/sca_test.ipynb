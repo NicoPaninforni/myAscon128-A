{
 "cells": [
  {
   "cell_type": "markdown",
   "metadata": {},
   "source": [
    "# Power analysis attack on AES with custom SBox "
   ]
  },
  {
   "cell_type": "code",
   "execution_count": 1,
   "metadata": {},
   "outputs": [
    {
     "name": "stdout",
     "output_type": "stream",
     "text": [
      "/dev/ttyS4 - n/a\n",
      "/dev/ttyS31 - n/a\n",
      "/dev/ttyS30 - n/a\n",
      "/dev/ttyS29 - n/a\n",
      "/dev/ttyS28 - n/a\n",
      "/dev/ttyS27 - n/a\n",
      "/dev/ttyS26 - n/a\n",
      "/dev/ttyS25 - n/a\n",
      "/dev/ttyS24 - n/a\n",
      "/dev/ttyS23 - n/a\n",
      "/dev/ttyS22 - n/a\n",
      "/dev/ttyS21 - n/a\n",
      "/dev/ttyS20 - n/a\n",
      "/dev/ttyS19 - n/a\n",
      "/dev/ttyS18 - n/a\n",
      "/dev/ttyS17 - n/a\n",
      "/dev/ttyS16 - n/a\n",
      "/dev/ttyS15 - n/a\n",
      "/dev/ttyS14 - n/a\n",
      "/dev/ttyS13 - n/a\n",
      "/dev/ttyS12 - n/a\n",
      "/dev/ttyS11 - n/a\n",
      "/dev/ttyS10 - n/a\n",
      "/dev/ttyS9 - n/a\n",
      "/dev/ttyS8 - n/a\n",
      "/dev/ttyS7 - n/a\n",
      "/dev/ttyS6 - n/a\n",
      "/dev/ttyS5 - n/a\n",
      "/dev/ttyS3 - n/a\n",
      "/dev/ttyS2 - n/a\n",
      "/dev/ttyS1 - n/a\n",
      "/dev/ttyS0 - n/a\n",
      "/dev/ttyUSB5 - Quad RS232-HS - Quad RS232-HS\n",
      "/dev/ttyUSB4 - Quad RS232-HS - Quad RS232-HS\n",
      "/dev/ttyUSB3 - Quad RS232-HS - Quad RS232-HS\n",
      "/dev/ttyUSB0 - FT232R USB UART - FT232R USB UART\n",
      "/dev/ttyACM0 - Nano 33 BLE\n"
     ]
    }
   ],
   "source": [
    "import numpy as np\n",
    "import matplotlib.pyplot as plt\n",
    "import ipywidgets as widgets\n",
    "import serial.tools.list_ports as port_list\n",
    "import sys\n",
    "sys.path.append( '../AES_python' )\n",
    "sys.path.append( '../sca_python' )\n",
    "\n",
    "ports = list(port_list.comports())\n",
    "for p in ports:\n",
    "    print (p)\n",
    "\n",
    "tested_sbox = \"sbox_rijndael_lut\"\n",
    "\n",
    "#sbox_id = tested_sbox.replace(\"sbox_\", \"\")\n",
    "#project_file = \"../../build/sca_test/sca_test_CW305_\"+sbox_id+\".cwp\"\n",
    "bitstream = r\"../../hw/fpga/bitstream/polito_cw305_heep_cw305_heep_0.0.1.bit\"\n",
    "#bitstream = r\"../../hw/fpga/bitstream/aes/aes_single_round/cw305_top_\"+sbox_id+\".bit\"\n"
   ]
  },
  {
   "cell_type": "code",
   "execution_count": 2,
   "metadata": {},
   "outputs": [
    {
     "name": "stdout",
     "output_type": "stream",
     "text": [
      "bitstream:  ../../hw/fpga/bitstream/polito_cw305_heep_cw305_heep_0.0.1.bit\n"
     ]
    }
   ],
   "source": [
    "print(\"bitstream: \", bitstream)"
   ]
  },
  {
   "cell_type": "code",
   "execution_count": null,
   "metadata": {},
   "outputs": [
    {
     "ename": "NameError",
     "evalue": "name 'cw305' is not defined",
     "output_type": "error",
     "traceback": [
      "\u001b[0;31m---------------------------------------------------------------------------\u001b[0m",
      "\u001b[0;31mNameError\u001b[0m                                 Traceback (most recent call last)",
      "Cell \u001b[0;32mIn[5], line 5\u001b[0m\n\u001b[1;32m      3\u001b[0m \u001b[38;5;28;01mimport\u001b[39;00m \u001b[38;5;21;01mtime\u001b[39;00m\n\u001b[1;32m      4\u001b[0m \u001b[38;5;28;01mfrom\u001b[39;00m \u001b[38;5;21;01mpicosdk\u001b[39;00m\u001b[38;5;21;01m.\u001b[39;00m\u001b[38;5;21;01mdiscover\u001b[39;00m \u001b[38;5;28;01mimport\u001b[39;00m find_all_units\n\u001b[0;32m----> 5\u001b[0m \u001b[43mcw305\u001b[49m\u001b[38;5;241m.\u001b[39mdis()\n\u001b[1;32m      6\u001b[0m ps\u001b[38;5;241m.\u001b[39mdis()\n",
      "\u001b[0;31mNameError\u001b[0m: name 'cw305' is not defined"
     ]
    }
   ],
   "source": [
    "from picoscope import ps5000a\n",
    "import chipwhisperer as cw\n",
    "import time\n",
    "from picosdk.discover import find_all_units\n"
   ]
  },
  {
   "cell_type": "markdown",
   "metadata": {},
   "source": [
    "## Picoscope and CW305 initialization"
   ]
  },
  {
   "cell_type": "code",
   "execution_count": 4,
   "metadata": {},
   "outputs": [
    {
     "ename": "DeviceNotFoundError",
     "evalue": "Could not find any devices on any drivers.",
     "output_type": "error",
     "traceback": [
      "\u001b[0;31m---------------------------------------------------------------------------\u001b[0m",
      "\u001b[0;31mDeviceNotFoundError\u001b[0m                       Traceback (most recent call last)",
      "Cell \u001b[0;32mIn[4], line 6\u001b[0m\n\u001b[1;32m      2\u001b[0m \u001b[38;5;28;01mfrom\u001b[39;00m \u001b[38;5;21;01mCW305_api\u001b[39;00m \u001b[38;5;28;01mimport\u001b[39;00m CW305Wrapper\n\u001b[1;32m      4\u001b[0m \u001b[38;5;28;01mtry\u001b[39;00m:\n\u001b[1;32m      5\u001b[0m     \u001b[38;5;66;03m# Initialize picoscope\u001b[39;00m\n\u001b[0;32m----> 6\u001b[0m     ps \u001b[38;5;241m=\u001b[39m \u001b[43mPS5000aWrapper\u001b[49m\u001b[43m(\u001b[49m\u001b[43m)\u001b[49m\n\u001b[1;32m      7\u001b[0m     ps\u001b[38;5;241m.\u001b[39mget_unitInfo()\n\u001b[1;32m      8\u001b[0m     ps\u001b[38;5;241m.\u001b[39mscope_setup()\n",
      "File \u001b[0;32m~/myAscon128-A/sw/notebook/../sca_python/pico_api.py:48\u001b[0m, in \u001b[0;36mPS5000aWrapper.__init__\u001b[0;34m(self)\u001b[0m\n\u001b[1;32m     47\u001b[0m \u001b[38;5;28;01mdef\u001b[39;00m \u001b[38;5;21m__init__\u001b[39m(\u001b[38;5;28mself\u001b[39m):\n\u001b[0;32m---> 48\u001b[0m     \u001b[38;5;28;01mif\u001b[39;00m \u001b[38;5;129;01mnot\u001b[39;00m \u001b[38;5;28;43mself\u001b[39;49m\u001b[38;5;241;43m.\u001b[39;49m\u001b[43mcheck_connection\u001b[49m\u001b[43m(\u001b[49m\u001b[43m)\u001b[49m:\n\u001b[1;32m     49\u001b[0m         \u001b[38;5;28;01mraise\u001b[39;00m \u001b[38;5;167;01mException\u001b[39;00m(\u001b[38;5;124m\"\u001b[39m\u001b[38;5;124mNo Picoscope connected.\u001b[39m\u001b[38;5;124m\"\u001b[39m)\n\u001b[1;32m     50\u001b[0m     \u001b[38;5;28;01melse\u001b[39;00m:\n",
      "File \u001b[0;32m~/myAscon128-A/sw/notebook/../sca_python/pico_api.py:56\u001b[0m, in \u001b[0;36mPS5000aWrapper.check_connection\u001b[0;34m(self)\u001b[0m\n\u001b[1;32m     54\u001b[0m \u001b[38;5;28;01mdef\u001b[39;00m \u001b[38;5;21mcheck_connection\u001b[39m(\u001b[38;5;28mself\u001b[39m):\n\u001b[1;32m     55\u001b[0m \u001b[38;5;250m    \u001b[39m\u001b[38;5;124;03m\"\"\" Check if the Picoscope is connected \"\"\"\u001b[39;00m\n\u001b[0;32m---> 56\u001b[0m     scopes \u001b[38;5;241m=\u001b[39m \u001b[43mfind_all_units\u001b[49m\u001b[43m(\u001b[49m\u001b[43m)\u001b[49m\n\u001b[1;32m     57\u001b[0m     \u001b[38;5;28;01mif\u001b[39;00m \u001b[38;5;129;01mnot\u001b[39;00m scopes:\n\u001b[1;32m     58\u001b[0m         \u001b[38;5;28mprint\u001b[39m(\u001b[38;5;124m\"\u001b[39m\u001b[38;5;124mNo Picoscope connected.\u001b[39m\u001b[38;5;124m\"\u001b[39m)\n",
      "File \u001b[0;32m~/.pyenv/versions/3.9.5/envs/cw305-env/lib/python3.9/site-packages/picosdk/discover.py:51\u001b[0m, in \u001b[0;36mfind_all_units\u001b[0;34m()\u001b[0m\n\u001b[1;32m     49\u001b[0m     devices\u001b[38;5;241m.\u001b[39mappend(device)\n\u001b[1;32m     50\u001b[0m \u001b[38;5;28;01mif\u001b[39;00m \u001b[38;5;129;01mnot\u001b[39;00m devices:\n\u001b[0;32m---> 51\u001b[0m     \u001b[38;5;28;01mraise\u001b[39;00m DeviceNotFoundError(\u001b[38;5;124m\"\u001b[39m\u001b[38;5;124mCould not find any devices on any drivers.\u001b[39m\u001b[38;5;124m\"\u001b[39m)\n\u001b[1;32m     52\u001b[0m \u001b[38;5;28;01mreturn\u001b[39;00m devices\n",
      "\u001b[0;31mDeviceNotFoundError\u001b[0m: Could not find any devices on any drivers."
     ]
    }
   ],
   "source": [
    "from pico_api import PS5000aWrapper\n",
    "from CW305_api import CW305Wrapper\n",
    "\n",
    "try:\n",
    "    # Initialize picoscope\n",
    "    ps = PS5000aWrapper()\n",
    "    ps.get_unitInfo()\n",
    "    ps.scope_setup()\n",
    "    # Initialize CW305\n",
    "    cw305 = CW305Wrapper(ps, bitstream)\n",
    "except ModuleNotFoundError as e:\n",
    "    print(e)"
   ]
  },
  {
   "cell_type": "markdown",
   "metadata": {},
   "source": [
    "## Online phase : AES power traces capture"
   ]
  },
  {
   "cell_type": "code",
   "execution_count": null,
   "metadata": {},
   "outputs": [],
   "source": [
    "from tqdm.notebook import tnrange\n",
    "import chipwhisperer as cw\n",
    "from Crypto.Cipher import AES\n",
    "from AES_golden import AES_golden_model\n",
    "\n",
    "project = cw.create_project(project_file, overwrite=True)\n",
    "\n",
    "# Initialize key,text pair generator\n",
    "ktp = cw.ktp.Basic()\n",
    "key, text = ktp.next()\n",
    "\n",
    "# Initialize the AES software emulated cipher\n",
    "cipher = AES_golden_model()\n",
    "\n",
    "# Each element of the key is converted to a 2-digit hex string \n",
    "formatted_key = ''.join(format(el, '02x') for el in key)\n",
    "print(\"Key: \", [ hex(subkey) for subkey in key])\n",
    "\n",
    "# Write the key to the CW305\n",
    "cw305.set_key(key)\n",
    "# Number of traces to capture\n",
    "N = 2500      \n",
    "# Dummy capture call due to bug of using AC coupling\n",
    "cw305.capture_trace(text, project)\n",
    "\n",
    "for i in tnrange(N, desc='Capturing traces'):\n",
    "    response = cw305.capture_trace(text, project)\n",
    "    # Sanity check with expected ciphertext\n",
    "    formatted_pt = (format(el, '02x') for el in text)\n",
    "    plaintext = [int(subbyte, 16) for subbyte in formatted_pt]\n",
    "    assert (list(response) == list(cipher.encrypt(formatted_key, plaintext, tested_sbox))), \"Incorrect encryption result!\\nGot {}\\nExp {}\\n\".format(list(response), list(text))\n",
    "    key, text = ktp.next() \n",
    "\n",
    "project.save()\n",
    "project.close()\n",
    "# Disconnect CW305 and picoscope\n",
    "cw305.dis()\n",
    "ps.dis()\n"
   ]
  },
  {
   "cell_type": "markdown",
   "metadata": {},
   "source": [
    "## Offline phase : attack on captured traces"
   ]
  },
  {
   "cell_type": "code",
   "execution_count": null,
   "metadata": {},
   "outputs": [],
   "source": [
    "import os\n",
    "import chipwhisperer.analyzer as cwa\n",
    "import chipwhisperer as cw\n",
    "import holoviews as hv\n",
    "hv.extension('bokeh')\n",
    "from analyzer.attack.aes.SBox_leakage_models import AES128SboxResistantLeakageModels\n",
    "from analyzer.attack.aes.key_schedule import key_schedule_rounds\n",
    "from analyzer.utils.sca_plots import sca_plot\n",
    "\n",
    "sca_plt = sca_plot()\n",
    "project = cw.open_project(project_file)"
   ]
  },
  {
   "cell_type": "markdown",
   "metadata": {},
   "source": [
    "### Plotting power traces captured (40 samples overlapped)"
   ]
  },
  {
   "cell_type": "code",
   "execution_count": null,
   "metadata": {},
   "outputs": [],
   "source": [
    "\n",
    "power_plt = sca_plt.power_traces_overlapped(ps.get_samplingInterval(), project.waves, finish=800)\n",
    "power_plt.show()\n",
    "# Ensure the Graphs directory exists\n",
    "os.makedirs(\"Graphs\", exist_ok=True)\n",
    "power_plt.savefig(\"Graphs/power_traces_overlapped\"+tested_sbox+\".png\")"
   ]
  },
  {
   "cell_type": "markdown",
   "metadata": {},
   "source": [
    "### SNR evaluation : detect leakage points"
   ]
  },
  {
   "cell_type": "code",
   "execution_count": null,
   "metadata": {},
   "outputs": [],
   "source": [
    "#leak_model = cwa.leakage_models.sbox_output\n",
    "#project.traces.extend(project.traces)\n",
    "\n",
    "# First round sbox output snr calculation\n",
    "leak_model = AES128SboxResistantLeakageModels().FirstRound_ModifiedSbox_Output(tested_sbox)\n",
    "snr_fr = cwa.calculate_snr(project.traces, leak_model=leak_model, db=False)\n",
    "curve = hv.Curve(snr_fr).opts(height=600, width=600, color='orange', alpha=0.5)\n",
    "# Last round state diff snr calculation\n",
    "leak_model = AES128SboxResistantLeakageModels().LastroundStateDiff_ModifiedSbox(tested_sbox)\n",
    "snr_lr = cwa.calculate_snr(project.traces, leak_model=leak_model, db=False)\n",
    "curve *= hv.Curve(snr_lr).opts(height=600, width=600, color='blue', alpha=0.5)\n",
    "\n",
    "curve.opts(width=900, height=600, show_legend=True, legend_position='right', xlabel='Sample', ylabel='SNR', title=\"SNR in time\") \n"
   ]
  },
  {
   "cell_type": "markdown",
   "metadata": {},
   "source": [
    "### Hamming distance attack : state difference leakage model on last round  "
   ]
  },
  {
   "cell_type": "code",
   "execution_count": null,
   "metadata": {},
   "outputs": [],
   "source": [
    "#Note : Chipwhisperer leakage model can be found in \"cwa.leakage_models\"\n",
    "\n",
    "# Run CPA attack with the custom SBox leakage model\n",
    "leak_class = AES128SboxResistantLeakageModels()\n",
    "leak_model = leak_class.LastroundStateDiff_ModifiedSbox(tested_sbox)\n",
    "attack = cwa.cpa(project, leak_model)\n",
    "cb = cwa.get_jupyter_callback(attack)\n",
    "results = attack.run(cwa.get_jupyter_callback(attack, 10))\n",
    "#print(results.best_guesses())\n",
    "\n",
    "# Recover key\n",
    "recv_lastroundkey = [kguess[0][0] for kguess in results.find_maximums()]\n",
    "recv_key = key_schedule_rounds(recv_lastroundkey, 10, 0, tested_sbox)\n",
    "print(\"Recovered key: \", [hex(subkey) for subkey in recv_key])\n",
    "key=list(project.keys[0])\n",
    "assert (key == recv_key), \"Failed to recover encryption key!\\nGot {}\\nExp {}\\n\".format(recv_key, key)\n",
    "print(\"Key recovery : Success!\")"
   ]
  },
  {
   "cell_type": "markdown",
   "metadata": {},
   "source": [
    "## Graphical Results : interpreting the attack"
   ]
  },
  {
   "cell_type": "markdown",
   "metadata": {},
   "source": [
    "#### Plot SNR and captured power traces on the same insert"
   ]
  },
  {
   "cell_type": "code",
   "execution_count": null,
   "metadata": {},
   "outputs": [],
   "source": [
    "leak_class = AES128SboxResistantLeakageModels()\n",
    "leak_model = leak_class.LastroundStateDiff_ModifiedSbox(tested_sbox)\n",
    "snr_vs_power_plt = sca_plt.snr_vs_traces_plot(ps.get_samplingInterval(), project, leak_model, finish=800)\n",
    "snr_vs_power_plt.show()\n",
    "# Ensure the Graphs directory exists\n",
    "os.makedirs(\"Graphs\", exist_ok=True)\n",
    "snr_vs_power_plt.savefig(\"Graphs/PowerVsSNR_\"+tested_sbox+\".png\")\n",
    "snr_vs_power_plt.close(fig)"
   ]
  },
  {
   "cell_type": "code",
   "execution_count": null,
   "metadata": {},
   "outputs": [],
   "source": [
    "import matplotlib.pyplot as plt\n",
    "import numpy as np\n",
    "import matplotlib.cm as cm\n",
    "\n",
    "def byte_to_color(idx):\n",
    "  cmap = cm.get_cmap('cividis')  # Choose any colormap with 40 colors\n",
    "  return cmap(idx / 40.0)\n",
    "\n",
    "db_flag = False\n",
    "# Create the figure and subplotscurve *= hv.Curve(snr_fr).opts(height=600, width=600, color='blue', alpha=0.5)\n",
    "fig, (ax1, ax2) = plt.subplots(2, 1)  # 2 rows, 1 column\n",
    "ax1.grid(axis='both', alpha=0.2)\n",
    "ax2.grid(axis='both', alpha=0.2)\n",
    "\n",
    "finish_interval = 800\n",
    "xticks_samples = range(len(traces[0]))\n",
    "xfocus_window = xticks_samples[:finish_interval]\n",
    "xtick_us = [x*actualSamplingInterval*1E6 for x in xfocus_window]\n",
    "plt.title(\"Power traces and SNR\")\n",
    "\n",
    "# Plot the power traces\n",
    "ax1.set_xlabel(\"Time (us)\")\n",
    "ax1.set_ylabel(\"Voltage (mV)\")\n",
    "for i in range(40):\n",
    "    ax1.plot(xtick_us, (traces[i][:finish_interval]*1000), color=byte_to_color(i), alpha=0.5)\n",
    "ax1.legend()\n",
    "\n",
    "# Plot the SNR\n",
    "ax2.set_xlabel(\"Time (us)\")\n",
    "ax2.set_ylabel(\"SNR\")\n",
    "# snr on the first round sbox output leakage model (between plaintext and sbxo output)\n",
    "leak_model = cwa.leakage_models.sbox_output\n",
    "snr_so = cwa.calculate_snr(project.traces, leak_model=leak_model, db=db_flag)\n",
    "ax2.plot(xtick_us, snr_so[:finish_interval], color='blue', label='First round - Sbox out', alpha=0.5)\n",
    "# snr on the last round state diff leakage model (between the last round state and the ciphertext)\n",
    "leak_model = cwa.leakage_models.last_round_state_diff\n",
    "snr_lrsd = cwa.calculate_snr(project.traces, leak_model=leak_model, db=db_flag)\n",
    "ax2.plot(xtick_us, snr_lrsd[:finish_interval], color='orange', label='Last round - State diff')\n",
    "ax2.legend(title=f\"leakage model\", fontsize=6, loc=\"upper right\")\n",
    "\n",
    "# Adjust layout (optional)\n",
    "plt.tight_layout()\n",
    "plt.show()\n",
    "plt.savefig(\"Graphs/PowerVsSNR.png\")\n",
    "plt.close(fig)"
   ]
  },
  {
   "cell_type": "code",
   "execution_count": null,
   "metadata": {},
   "outputs": [],
   "source": [
    "import holoviews as hv\n",
    "from holoviews.operation.datashader import datashade, shade, dynspread, rasterize\n",
    "from holoviews.operation import decimate\n",
    "import pandas as pd, numpy as np\n",
    "plot_data = cwa.analyzer_plots(results)"
   ]
  },
  {
   "cell_type": "markdown",
   "metadata": {},
   "source": [
    "### - Calculated correlation at each point in time for the correct key"
   ]
  },
  {
   "cell_type": "code",
   "execution_count": null,
   "metadata": {},
   "outputs": [],
   "source": [
    "def byte_to_color(idx):\n",
    "    return hv.Palette.colormaps['Category20'](idx/16.0)\n",
    "\n",
    "a = []\n",
    "b = []\n",
    "hv.extension('bokeh')\n",
    "\n",
    "# display the calculated correlation at each point in time for the coreect key\n",
    "for key_byte in range(0, 16):\n",
    "    data = plot_data.output_vs_time(key_byte)\n",
    "    a.append(np.array(data[1]))\n",
    "    b.append(np.array(data[2]))\n",
    "    b.append(np.array(data[3]))\n",
    "\n",
    "pda = pd.DataFrame(a).transpose().rename(str, axis='columns')\n",
    "pdb = pd.DataFrame(b).transpose().rename(str, axis='columns')   \n",
    "curve = hv.Curve(pdb['0'], \"Sample\").options(color='black')\n",
    "\n",
    "for key_byte in range(1, 16):\n",
    "    curve *= hv.Curve(pdb[str(key_byte)]).options(color=byte_to_color(key_byte))\n",
    "\n",
    "for key_byte in range(0, 16):\n",
    "    curve *= hv.Curve(pda[str(key_byte)]).options(color=byte_to_color(key_byte))\n",
    "curve.opts(width=900, height=600)\n",
    "#decimate(curve.opts(width=900, height=600)) "
   ]
  },
  {
   "cell_type": "markdown",
   "metadata": {},
   "source": [
    "## PGE vs Traces"
   ]
  },
  {
   "cell_type": "markdown",
   "metadata": {},
   "source": [
    "###### with matplot lib"
   ]
  },
  {
   "cell_type": "code",
   "execution_count": null,
   "metadata": {},
   "outputs": [],
   "source": [
    "import numpy as np\n",
    "import matplotlib.pyplot as plt\n",
    "\"\"\"\n",
    "Plots the PGE trends for all the 16 correct key guesses with matplotlib\n",
    "\"\"\"\n",
    "\n",
    "pges = [plot_data.pge_vs_trace(i) for i,_ in enumerate(key)]\n",
    "fig, ax1 = plt.subplots(nrows=1, ncols=1, sharex=True, figsize=[14,10])\n",
    "plt.grid(which='major', axis='both', alpha=0.2)\n",
    "\n",
    "x_axis = plot_data.pge_vs_trace(0)[0]\n",
    "step = 100\n",
    "for i, bnum in enumerate(key):\n",
    "    plt.plot(pges[i][0], pges[i][1], linewidth=1, label=f\"Byte #{i}\")\n",
    "plt.plot(pges[i][0], [10 for _ in range(len(pges[i][0]))], linewidth=1, linestyle=\"dashed\",  color=\"black\", label=f\"max(PGE) < {10}\")\n",
    "    \n",
    "plt.legend(title=f\"Known Key\", fontsize=12, loc=\"upper right\")\n",
    "plt.title(\"AES SBOX Freyre 2 - PGE\", fontsize=18)\n",
    "ax1.set_xticks(range(0, x_axis[-1], step))\n",
    "# clip_min_y = 0\n",
    "# clip_max_y = 300\n",
    "# ax1.set_yticks(list(range(clip_min_y, clip_max_y+1, 10)))\n",
    "ax1.set_ylabel('Partial Guessing Entropy (PGE)', fontsize=16)\n",
    "ax1.set_xlabel('Traces', fontsize=16)\n",
    "# plt.show()\n",
    "plt.savefig(\"Graphs/PGE_hussain_6.png\")\n",
    "plt.close(fig)"
   ]
  },
  {
   "cell_type": "code",
   "execution_count": null,
   "metadata": {},
   "outputs": [],
   "source": [
    "ret = plot_data.pge_vs_trace(0)\n",
    "curve = hv.Curve((ret[0], ret[1], \"Traces Used in Calculation\", \"Partial Guessing Entropy of Byte\"))\n",
    "\n",
    "for bnum in range(1,16):\n",
    "    ret = plot_data.pge_vs_trace(bnum)\n",
    "    curve *= hv.Curve((ret[0], ret[1])).opts(color=byte_to_color(bnum))\n",
    "curve.opts(width=900, height=600)"
   ]
  },
  {
   "cell_type": "markdown",
   "metadata": {},
   "source": [
    "####  Correlation traces"
   ]
  },
  {
   "cell_type": "code",
   "execution_count": null,
   "metadata": {},
   "outputs": [],
   "source": [
    "plot_data.plot_corr_vs_trace()"
   ]
  },
  {
   "cell_type": "code",
   "execution_count": null,
   "metadata": {},
   "outputs": [],
   "source": [
    "\"\"\" corr_vs_trace(self, bnum)\n",
    "Gets plot data of correlation for each possible value of subkey\n",
    "        vs. trace number for a given subkey\"\"\"\n",
    "bnum\n",
    "data = results.maxes_list\n",
    "# take per byte 0 the the correlation values of each of the 256 subkey guesses, ranked by correlation. Returned this list per each trace (traces intervals of 25)\n",
    "maxdata_byte0=data[0]\n",
    "maxdata_byte0_after25traces = maxdata_byte0[100]\n",
    "#print(\"Subkey guesses for byte 0 after 25 traces ranked in order of correlation:\\n\", maxdata_byte0_after25traces)\n",
    "\n",
    "tlist = []\n",
    "for m in maxdata_byte0:\n",
    "    # append the trace value (number) to the list. Maxdata_byte0 is a list of dictionaries, each dictionary contains the trace number and the maxes for each subkey guess \n",
    "    # each guess is formatted as (#subkey_value, ?, correlation_value)\n",
    "    tlist.append(m['trace'])\n",
    "# maxlist is a 2d array, #rows = possible subkey values (=256, since byte in aes), #columns = #traces/25\n",
    "maxlist = np.zeros((len(results.diffs[bnum]), len(tlist)))\n",
    "for i, m in enumerate(maxdata_byte0):\n",
    "    # where j = len(results.diffs[bnum]) = 256, since subkey is byte in aes\n",
    "    for j in range(0, len(results.diffs[bnum])):\n",
    "        # Took each subkey guess(=256), at trace interval m, and stored the correlation value in the maxlist \n",
    "        maxlist[m['maxes'][j][0], i] = m['maxes'][j][2]\n",
    "\n",
    "# tlist : trace number (0-3000, step =25)\n",
    "# maxlist : sukey guesses correlation value ranked,for byte 0, at each trace interval\n",
    "corrVsTrace_byte0 = [tlist, maxlist]"
   ]
  },
  {
   "cell_type": "code",
   "execution_count": null,
   "metadata": {},
   "outputs": [],
   "source": [
    "# diffs, one per each subkey (=16)\n",
    "# each diff is a list of 256 elements, one per each possible byte value\n",
    "# each element is a list of 1260 elements, one per each trace --> correlation value each trace interval \n",
    "print(len(results.diffs[0]))"
   ]
  },
  {
   "cell_type": "markdown",
   "metadata": {},
   "source": [
    "##### Correlation of best key guess and next best one with holoview\n"
   ]
  },
  {
   "cell_type": "code",
   "execution_count": null,
   "metadata": {},
   "outputs": [],
   "source": [
    "import holoviews as hv\n",
    "from holoviews.operation import decimate\n",
    "import pandas as pd, numpy as np\n",
    "hv.extension('bokeh')\n",
    "def byte_to_color(idx):\n",
    "    return hv.Palette.colormaps['Category20'](idx/16.0)\n",
    "\n",
    "# 16 subkey\n",
    "bnum_it = range(16)\n",
    "\n",
    "curve = None\n",
    "for bnum in bnum_it: # per each subkey byte \n",
    "    # data store the correlation values (ranked) for subkey guesses of byte 'bnum', at each trace intervalax1.set_xticks(range(0, x_axis[-1], step))\n",
    "    data = np.array(plot_data.corr_vs_trace(bnum)[1])\n",
    "    # trace intervals (first  of corr_vs_trace return value)\n",
    "    xrangelist = plot_data.corr_vs_trace(bnum)[0]\n",
    "    key = results.known_key[bnum]\n",
    "    #print(\"#trace intervals: \", len(xrangelist), \",len correlation array: \",len(data[key]), \" @byte bnum: \",bnum)\n",
    "    #print(\"correlation trend:\\n\", data[key])\n",
    "    wrong_results = data[[i != key for i in range(256)]]\n",
    "    plt = hv.Curve((xrangelist, data[key])).opts(color=byte_to_color(bnum))\n",
    "   \n",
    "    if curve is None:\n",
    "        curve = plt\n",
    "    else:\n",
    "        curve *= plt\n",
    "    #print(\"next wrong subkey correlation trend guess for byte\", bnum, \":\\n\", np.amax(wrong_results, 0))\n",
    "    # took correlation value of first wrong subkey guess for byte 'bnum', at each trace interval\n",
    "    curve *= hv.Curve((xrangelist, np.amax(wrong_results, 0))).opts(color=byte_to_color(bnum), alpha=0.5, line_dash='dotted')\n",
    "\n",
    "\n",
    "curve.opts(width=900, height=600, show_legend=True, legend_position='right', xlabel='Traces', ylabel='Correlation', title=\"Correlation Vs. Traces\")   "
   ]
  },
  {
   "cell_type": "markdown",
   "metadata": {},
   "source": [
    "#### Correlation vs Traces with matplot lib"
   ]
  },
  {
   "cell_type": "code",
   "execution_count": null,
   "metadata": {},
   "outputs": [],
   "source": [
    "import numpy as np\n",
    "import matplotlib.pyplot as plt\n",
    "\n",
    "def byte_to_color(idx):\n",
    "    return hv.Palette.colormaps['Category20'](idx/16.0)\n",
    "\"\"\"\n",
    "Plots the various correlations of both the correct key guesses and the wrong ones\n",
    "\"\"\"\n",
    "# 16 subkeyCW305_leakage_model\n",
    "bnum_it = range(16)\n",
    "\n",
    "fig, ax1 = plt.subplots(nrows=1, ncols=1, sharex=True, figsize=[18,12])\n",
    "plt.grid(which='major', axis='both', alpha=0.2)\n",
    "\n",
    "# Plot correlation trends of wrong key guesses (\n",
    "for bnum in bnum_it:\n",
    "    data = np.array(plot_data.corr_vs_trace(bnum)[1])\n",
    "    xrangelist = plot_data.corr_vs_trace(bnum)[0]\n",
    "    wrong_results = data[[i != key for i in range(256)]]\n",
    "    ax1.plot(xrangelist, np.amax(wrong_results, 0), linewidth=2, linestyle =\"dotted\", color=byte_to_color(bnum))\n",
    "\n",
    "# Plot correct key_guesses on top of wrong ones\n",
    "for bnum in bnum_it:\n",
    "    data = np.array(plot_data.corr_vs_trace(bnum)[1])\n",
    "    xrangelist = plot_data.corr_vs_trace(bnum)[0]\n",
    "    key = results.known_key[bnum]\n",
    "    wrong_results = data[[i != key for i in range(256)]]\n",
    "    ax1.plot(xrangelist, data[key], linewidth=1, label=f\"Byte #{bnum}\", color=byte_to_color(bnum))\n",
    "\n",
    "\n",
    "ax1.legend(title=f\"Known Key\", fontsize=12, loc=\"upper right\")\n",
    "plt.title(\" AES SBOX Freyre 2 - Correlations\", fontsize=18)\n",
    "\n",
    "step = 200\n",
    "ax1.set_xticks(range(0, xrangelist[-1], step))\n",
    "ax1.set_ylabel('Correlation', fontsize=16)\n",
    "ax1.set_xlabel('Traces', fontsize=16)\n",
    "\n",
    "#plt.show()\n",
    "plt.savefig(\"Graphs/correlations_Freyre_2.png\")\n",
    "plt.close(fig)"
   ]
  },
  {
   "cell_type": "code",
   "execution_count": null,
   "metadata": {},
   "outputs": [],
   "source": [
    "plot = plot_data.corr_vs_trace(0)"
   ]
  },
  {
   "cell_type": "markdown",
   "metadata": {},
   "source": [
    "### Performance comparison of modified SBox vs standard SBox (Rijndael)"
   ]
  },
  {
   "cell_type": "markdown",
   "metadata": {},
   "source": [
    "##### Run attack on standard S-Box (Rijndael) and tested one"
   ]
  },
  {
   "cell_type": "code",
   "execution_count": null,
   "metadata": {},
   "outputs": [],
   "source": [
    "import chipwhisperer.analyzer as cwa\n",
    "import chipwhisperer as cw\n",
    "\n",
    "# Run attack on Rijndael Sbox\n",
    "project_file_Rijndael = \"../../build/sca_test/sca_test_CW305_Rijndael.cwp\"\n",
    "project = cw.open_project(project_file_Rijndael)\n",
    "key_Rijndael=list(project.keys[0])\n",
    "attack = cwa.cpa(project, cwa.leakage_models.last_round_state_diff)\n",
    "cb = cwa.get_jupyter_callback(attack)\n",
    "results_rijandel = attack.run(cwa.get_jupyter_callback(attack, 10))\n",
    "project.close()\n",
    "\n",
    "# Run the attack on tested sbox\n",
    "project = cw.open_project(project_file)\n",
    "key_Freyre_2=list(project.keys[0])\n",
    "attack = cwa.cpa(project, cwa.leakage_models.last_round_state_diff_freyre_2)\n",
    "cb = cwa.get_jupyter_callback(attack)\n",
    "results_Freyre_2 = attack.run(cwa.get_jupyter_callback(attack, 10))\n",
    "project.close()"
   ]
  },
  {
   "cell_type": "markdown",
   "metadata": {},
   "source": [
    "##### Plot PGEs trend and correlation trend for both S-Boxes (side by side)"
   ]
  },
  {
   "cell_type": "code",
   "execution_count": null,
   "metadata": {},
   "outputs": [],
   "source": [
    "\"\"\"\n",
    "Comparion of PGE trend and correlation trend (of next best guess) between the two sboxes \n",
    "\"\"\"\n",
    "import holoviews as hv\n",
    "hv.extension('bokeh')\n",
    "\n",
    "import matplotlib.pyplot as plt\n",
    "from matplotlib.lines import Line2D  # For custom legends\n",
    "import numpy as np\n",
    "import chipwhisperer.analyzer as cwa\n",
    "\n",
    "# Create the figure and subplots\n",
    "fig, ((ax1, ax2), (ax3, ax4)) = plt.subplots(2, 2)  # 2 rows, 2 columns\n",
    "ax1.grid(axis='both', alpha=0.2)\n",
    "ax2.grid(axis='both', alpha=0.2)\n",
    "ax3.grid(axis='both', alpha=0.2)\n",
    "ax4.grid(axis='both', alpha=0.2)\n",
    "\n",
    "ax1.set_title('Rijndael S-box',fontweight='bold')\n",
    "ax2.set_title('Freyre 2 S-box',fontweight='bold')\n",
    "\n",
    "def byte_to_color(idx):\n",
    "    return hv.Palette.colormaps['Category20'](idx/16.0)\n",
    "\n",
    "bnum_it = range(16)\n",
    "\n",
    "# Plot object for both Sboxes\n",
    "plot_data_Rijndael = cwa.analyzer_plots(results_rijandel)\n",
    "plot_data_Freyre_2 = cwa.analyzer_plots(results_Freyre_2)\n",
    "\n",
    "\"\"\"\n",
    "Plot the PGE trend for both the sboxes\n",
    "\"\"\"\n",
    "pges_Rijndael = [plot_data_Rijndael.pge_vs_trace(i) for i,_ in enumerate(key_Rijndael)]\n",
    "pges_Freyre_2 = [plot_data_Freyre_2.pge_vs_trace(i) for i,_ in enumerate(key_Freyre_2)]\n",
    "\n",
    "pge_xrangelist = plot_data_Rijndael.pge_vs_trace(0)[0]\n",
    "\n",
    "# Plot PGE trends for Rijndael Sbox\n",
    "for i, bnum in enumerate(key_Rijndael):\n",
    "    ax1.plot(pges_Rijndael[i][0], pges_Rijndael[i][1], linewidth=0.5, label=f\"Byte #{i}\")\n",
    "ax1.plot(pges_Rijndael[i][0], [10 for _ in range(len(pges_Rijndael[i][0]))], linewidth=1, linestyle=\"dashed\",  color=\"black\", label=f\"max(PGE) < {10}\")\n",
    "x_lim_right = ax1.get_xlim()[1]-100  # Get the right limit of the x-axis and leave 100 as offset\n",
    "y_position_above_line = 10 + 0.5  # Slightly above the line, adjust 0.5 or as needed\n",
    "ax1.text(x_lim_right, y_position_above_line, 'max(PGE) < 10', fontsize=5, color='black', ha='right', va='bottom')\n",
    "ax1.set_ylabel('Partial Guessing Entropy (PGE)', fontsize=16)\n",
    "ax1.set_xlabel('Traces', fontsize=16)\n",
    "step = 500\n",
    "ax1.set_xticks(range(0, pge_xrangelist[-1], step))\n",
    "ax1.set_ylabel('PGE', fontsize=16)\n",
    "ax1.set_xlabel('Traces', fontsize=16)\n",
    "\n",
    "\n",
    "\n",
    "# Plot PGE trends for Freyre 2 Sbox\n",
    "for i, bnum in enumerate(key_Freyre_2):\n",
    "    ax2.plot(pges_Freyre_2[i][0], pges_Freyre_2[i][1], linewidth=0.5, label=f\"Byte #{i}\")\n",
    "ax2.plot(pges_Rijndael[i][0], [10 for _ in range(len(pges_Freyre_2[i][0]))], linewidth=1, linestyle=\"dashed\",  color=\"black\", label=f\"max(PGE) < {10}\")\n",
    "x_lim_right = ax2.get_xlim()[1]-100  # Get the right limit of the x-axis and leave 100 as offset\n",
    "y_position_above_line = 10 + 0.5  # Slightly above the line, adjust 0.5 or as needed\n",
    "ax2.text(x_lim_right, y_position_above_line, 'max(PGE) < 10', fontsize=5, color='black', ha='right', va='bottom')\n",
    "ax2.set_ylabel('PGE', fontsize=16)\n",
    "ax2.set_xlabel('Traces', fontsize=16)\n",
    "step = 500\n",
    "pge_xrangelist = plot_data_Freyre_2.pge_vs_trace(0)[0]\n",
    "ax2.set_xticks(range(0, pge_xrangelist[-1], step))\n",
    "ax2.set_ylabel('PGE', fontsize=16)\n",
    "ax2.set_xlabel('Traces', fontsize=16)\n",
    "\n",
    "\"\"\"\n",
    "Plot the correlation trend for both the sboxes. \n",
    "In the correlation plot is reported the trend of the next best guess for each byte\n",
    "\"\"\"\n",
    "# Create custom legend items\n",
    "legend_items = [Line2D([0], [0], color='black', linewidth=1, linestyle='--', label='Wrong subkeys'),\n",
    "                Line2D([0], [0], color='black', linewidth=1, linestyle='-', label='Correct subkeys')]\n",
    "\n",
    "# Plot correlation trends for Rijndael Sbox\n",
    "corr_xrange_list = plot_data_Rijndael.corr_vs_trace(0)[0]\n",
    "# -- Next best wrong key guess for each byte\n",
    "for bnum in bnum_it:\n",
    "    data = np.array(plot_data_Rijndael.corr_vs_trace(bnum)[1])\n",
    "    key = results_rijandel.known_key[bnum]\n",
    "    wrong_results = data[[i != key for i in range(256)]]\n",
    "    ax3.plot(corr_xrange_list , np.amax(wrong_results, 0), linewidth=1, linestyle =\"dotted\", color=byte_to_color(bnum))\n",
    " # -- Correct key guess for each byte\n",
    "for bnum in bnum_it:\n",
    "    data = np.array(plot_data_Rijndael.corr_vs_trace(bnum)[1])\n",
    "    key = results_rijandel.known_key[bnum]\n",
    "    wrong_results = data[[i != key for i in range(256)]]\n",
    "    ax3.plot(corr_xrange_list , data[key], linewidth=1, label=f\"Byte #{bnum}\", color=byte_to_color(bnum))\n",
    "\n",
    "\n",
    "# Add the custom legend to the plot\n",
    "# Assuming ax1 is the axis you want to add the legend to. Replace ax1 with the appropriate axis variable name if different.\n",
    "ax3.legend(handles=legend_items, title='Subkey Guesses', loc='upper right', fontsize='small')\n",
    "ax3.set_xticks(range(0, corr_xrange_list[-1], step))\n",
    "ax3.set_ylabel('Correlation', fontsize=13)\n",
    "ax3.set_xlabel('Traces', fontsize=12)\n",
    "\n",
    "# Plot correlation trends for Freyre 2 Sbox\n",
    "# -- Next best wrong key guess for each byte\n",
    "for bnum in bnum_it:\n",
    "    data = np.array(plot_data_Freyre_2.corr_vs_trace(bnum)[1])\n",
    "    key = results_Freyre_2.known_key[bnum]\n",
    "    wrong_results = data[[i != key for i in range(256)]]\n",
    "    ax4.plot(corr_xrange_list , np.amax(wrong_results, 0), linewidth=1, linestyle =\"dotted\", color=byte_to_color(bnum))\n",
    " # -- Correct key guess for each byte\n",
    "for bnum in bnum_it:\n",
    "    data = np.array(plot_data_Freyre_2.corr_vs_trace(bnum)[1])\n",
    "    key = results_Freyre_2.known_key[bnum]\n",
    "    wrong_results = data[[i != key for i in range(256)]]\n",
    "    ax4.plot(corr_xrange_list , data[key], linewidth=1, label=f\"Byte #{bnum}\", color=byte_to_color(bnum))\n",
    "\n",
    "ax4.legend(handles=legend_items, title='Subkey Guesses', loc='upper right', fontsize='small')\n",
    "ax4.set_xticks(range(0, corr_xrange_list[-1], step))\n",
    "ax4.set_ylabel('Correlation', fontsize=13)\n",
    "ax4.set_xlabel('Traces', fontsize=12)\n",
    "\n",
    "for ax in fig.get_axes():\n",
    "    ax.label_outer()\n",
    "\n",
    "# Adjust layout \n",
    "#plt.tight_layout()\n",
    "#plt.show()\n",
    "#plt.savefig(\"Graphs/sbox_comparison.pdf\", dpi=1200)\n",
    "plt.savefig(\"Graphs/sbox_comparison.pdf\")\n",
    "plt.close(fig)"
   ]
  }
 ],
 "metadata": {
  "kernelspec": {
   "display_name": "cw305-env",
   "language": "python",
   "name": "python3"
  },
  "language_info": {
   "codemirror_mode": {
    "name": "ipython",
    "version": 3
   },
   "file_extension": ".py",
   "mimetype": "text/x-python",
   "name": "python",
   "nbconvert_exporter": "python",
   "pygments_lexer": "ipython3",
   "version": "3.9.5"
  }
 },
 "nbformat": 4,
 "nbformat_minor": 2
}
