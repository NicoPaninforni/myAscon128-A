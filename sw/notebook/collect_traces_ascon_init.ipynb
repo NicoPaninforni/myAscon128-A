{
 "cells": [
  {
   "cell_type": "markdown",
   "metadata": {},
   "source": [
    "# Power analysis attack on ASCON"
   ]
  },
  {
   "cell_type": "code",
   "execution_count": 1,
   "metadata": {},
<<<<<<< HEAD
   "outputs": [],
=======
   "outputs": [
    {
     "name": "stdout",
     "output_type": "stream",
     "text": [
      "/dev/ttyS4 - n/a\n",
      "/dev/ttyUSB3 - Quad RS232-HS - Quad RS232-HS\n",
      "/dev/ttyUSB2 - Quad RS232-HS - Quad RS232-HS\n",
      "/dev/ttyUSB1 - Quad RS232-HS - Quad RS232-HS\n",
      "../../hw/fpga/bitstream/cw305_top_ascon_init_ASCON_HW.bit\n"
     ]
    }
   ],
>>>>>>> refs/remotes/origin/main
   "source": [
    "import numpy as np\n",
    "import matplotlib.pyplot as plt\n",
    "import ipywidgets as widgets\n",
    "import serial.tools.list_ports as port_list\n",
    "import sys\n",
    "sys.path.append( '../ASCON_init_python' )\n",
    "sys.path.append( '../sca_python' )\n",
    "\n",
    "sub_layer_dict = {\n",
    "    \"hw\" : \"ASCON_HW\",\n",
    "    \"lut_ascon\" : \"SBOX_ASCON\",\n",
    "    \"lut_bilgin\" : \"SBOX_BILGIN\",\n",
    "    \"lut_allouzi\" : \"SBOX_ALLOUZI\",\n",
    "    \"lut_lu_4\" : \"SBOX_LU_4\",\n",
    "    \"lut_lu_5\" : \"SBOX_LU_5\",\n",
    "    \"lut_lu_6\" : \"SBOX_LU_6\",\n",
    "    \"lut_lu_7\" : \"SBOX_LU_7\"\n",
    "}\n",
    "\n",
    "sub_layer_type = \"hw\"\n",
    "\n",
<<<<<<< HEAD
    "#ports = list(port_list.comports())\n",
    "#for p in ports:\n",
    "#    print (p)\n",
    "\n",
    "project_file = \"../../traceset/CW305_ascon_init_\" + sub_layer_dict[sub_layer_type] + \"_300000.cwp\"\n",
    "bitstream = r\"../../hw/fpga/bitstream/ascon/ascon_init/cw305_top_standard_comb.bit\""
=======
    "ports = list(port_list.comports())\n",
    "for p in ports:\n",
    "    print (p)\n",
    "\n",
    "project_file = \"../../build/sca_test/sca_test_CW305_ascon_init_\" + sub_layer_dict[sub_layer_type] + \"_300000_1.cwp\"\n",
    "bitstream = r\"../../hw/fpga/bitstream/cw305_top_ascon_init_\" + sub_layer_dict[sub_layer_type] + \".bit\"\n",
    "\n",
    "print(bitstream)\n"
>>>>>>> refs/remotes/origin/main
   ]
  },
  {
   "cell_type": "markdown",
   "metadata": {},
   "source": [
    "## Picoscope and CW305 initialization"
   ]
  },
  {
   "cell_type": "code",
   "execution_count": 2,
   "metadata": {},
   "outputs": [
    {
     "name": "stdout",
     "output_type": "stream",
     "text": [
      "Found the following picoscope:\n",
<<<<<<< HEAD
      "DriverVersion                 : PS5000A Linux Driver, 2.2.2.5029\n",
=======
      "DriverVersion                 : PS5000A Linux Driver, 2.1.139.6031\n",
>>>>>>> refs/remotes/origin/main
      "USBVersion                    : 3.0\n",
      "HardwareVersion               : 1\n",
      "VariantInfo                   : 5244D\n",
      "BatchAndSerial                : KU687/0175\n",
      "CalDate                       : 26Apr23\n",
      "KernelVersion                 : 0.0\n",
      "DigitalHardwareVersion        : 1\n",
      "AnalogueHardwareVersion       : 1\n",
      "PicoFirmwareVersion1          : 1.7.15.0\n",
<<<<<<< HEAD
      "PicoFirmwareVersion2          : 1.2.34.0\n"
     ]
    },
    {
     "name": "stderr",
     "output_type": "stream",
     "text": [
      "(ChipWhisperer Target WARNING|File CW305.py:345) Verilog defines not found in default location (/home/mattia-mirigaldi/.pyenv/versions/cw/lib/python3.9/site-packages/chipwhisperer/../../hardware/victims/cw305_artixtarget/fpga/common/cw305_defines.v).\n",
      "Using defines from CW305.py.If this isn't what you want, either add 'slurp=False', or provide defines location in 'defines_files'\n"
     ]
    },
    {
     "name": "stdout",
     "output_type": "stream",
     "text": [
=======
      "PicoFirmwareVersion2          : 1.2.34.0\n",
>>>>>>> refs/remotes/origin/main
      "True\n"
     ]
    }
   ],
   "source": [
    "from pico_api import PS5000aWrapper\n",
    "from CW305_api import CW305Wrapper\n",
    "\n",
    "try:\n",
    "    # Initialize picoscope\n",
    "    ps = PS5000aWrapper()\n",
    "    ps.get_unitInfo()\n",
    "    ps.scope_setup()\n",
    "    # Initialize CW305\n",
    "    cw305 = CW305Wrapper(ps, bitstream)\n",
    "\n",
    "except ModuleNotFoundError as e:\n",
    "    print(e)"
   ]
  },
  {
   "cell_type": "markdown",
   "metadata": {},
   "source": [
    "## Online phase : ASCON power traces capture"
   ]
  },
  {
   "cell_type": "code",
<<<<<<< HEAD
   "execution_count": 4,
   "metadata": {},
   "outputs": [
    {
     "ename": "ModuleNotFoundError",
     "evalue": "No module named 'operations_init'",
     "output_type": "error",
     "traceback": [
      "\u001b[0;31m---------------------------------------------------------------------------\u001b[0m",
      "\u001b[0;31mModuleNotFoundError\u001b[0m                       Traceback (most recent call last)",
      "Cell \u001b[0;32mIn[4], line 3\u001b[0m\n\u001b[1;32m      1\u001b[0m \u001b[38;5;28;01mfrom\u001b[39;00m \u001b[38;5;21;01mtqdm\u001b[39;00m\u001b[38;5;21;01m.\u001b[39;00m\u001b[38;5;21;01mnotebook\u001b[39;00m \u001b[38;5;28;01mimport\u001b[39;00m tnrange\n\u001b[1;32m      2\u001b[0m \u001b[38;5;28;01mimport\u001b[39;00m \u001b[38;5;21;01mchipwhisperer\u001b[39;00m \u001b[38;5;28;01mas\u001b[39;00m \u001b[38;5;21;01mcw\u001b[39;00m\n\u001b[0;32m----> 3\u001b[0m \u001b[38;5;28;01mfrom\u001b[39;00m \u001b[38;5;21;01moperations_init\u001b[39;00m \u001b[38;5;28;01mimport\u001b[39;00m ascon_init \u001b[38;5;28;01mas\u001b[39;00m ascon\n\u001b[1;32m      5\u001b[0m \u001b[38;5;66;03m# Number of traces to capture\u001b[39;00m\n\u001b[1;32m      6\u001b[0m N \u001b[38;5;241m=\u001b[39m \u001b[38;5;241m60000\u001b[39m\n",
      "\u001b[0;31mModuleNotFoundError\u001b[0m: No module named 'operations_init'"
     ]
=======
   "execution_count": null,
   "metadata": {},
   "outputs": [
    {
     "name": "stdout",
     "output_type": "stream",
     "text": [
      "Key:  ['0x0', '0x1', '0x2', '0x3', '0x4', '0x5', '0x6', '0x7', '0x8', '0x9', '0xa', '0xb', '0xc', '0xd', '0xe', '0xf']\n"
     ]
    },
    {
     "data": {
      "application/vnd.jupyter.widget-view+json": {
       "model_id": "f1f858b479cd4357aa56638863fe3e74",
       "version_major": 2,
       "version_minor": 0
      },
      "text/plain": [
       "Capturing traces:   0%|          | 0/60000 [00:00<?, ?it/s]"
      ]
     },
     "metadata": {},
     "output_type": "display_data"
    },
    {
     "name": "stdout",
     "output_type": "stream",
     "text": [
      "Key:  ['0x0', '0x1', '0x2', '0x3', '0x4', '0x5', '0x6', '0x7', '0x8', '0x9', '0xa', '0xb', '0xc', '0xd', '0xe', '0xf']\n"
     ]
    },
    {
     "data": {
      "application/vnd.jupyter.widget-view+json": {
       "model_id": "ede87fe37404461891452bb39282a423",
       "version_major": 2,
       "version_minor": 0
      },
      "text/plain": [
       "Capturing traces:   0%|          | 0/60000 [00:00<?, ?it/s]"
      ]
     },
     "metadata": {},
     "output_type": "display_data"
    },
    {
     "name": "stdout",
     "output_type": "stream",
     "text": [
      "Key:  ['0x0', '0x1', '0x2', '0x3', '0x4', '0x5', '0x6', '0x7', '0x8', '0x9', '0xa', '0xb', '0xc', '0xd', '0xe', '0xf']\n"
     ]
    },
    {
     "data": {
      "application/vnd.jupyter.widget-view+json": {
       "model_id": "c58b413eaa864992be610527f16addb5",
       "version_major": 2,
       "version_minor": 0
      },
      "text/plain": [
       "Capturing traces:   0%|          | 0/60000 [00:00<?, ?it/s]"
      ]
     },
     "metadata": {},
     "output_type": "display_data"
    },
    {
     "name": "stdout",
     "output_type": "stream",
     "text": [
      "Key:  ['0x0', '0x1', '0x2', '0x3', '0x4', '0x5', '0x6', '0x7', '0x8', '0x9', '0xa', '0xb', '0xc', '0xd', '0xe', '0xf']\n"
     ]
    },
    {
     "data": {
      "application/vnd.jupyter.widget-view+json": {
       "model_id": "c24bb73a342a451e862c0cf1252053a4",
       "version_major": 2,
       "version_minor": 0
      },
      "text/plain": [
       "Capturing traces:   0%|          | 0/60000 [00:00<?, ?it/s]"
      ]
     },
     "metadata": {},
     "output_type": "display_data"
    },
    {
     "name": "stdout",
     "output_type": "stream",
     "text": [
      "Key:  ['0x0', '0x1', '0x2', '0x3', '0x4', '0x5', '0x6', '0x7', '0x8', '0x9', '0xa', '0xb', '0xc', '0xd', '0xe', '0xf']\n"
     ]
    },
    {
     "data": {
      "application/vnd.jupyter.widget-view+json": {
       "model_id": "ac51cced808b46969d6f7b9ed53dfcb2",
       "version_major": 2,
       "version_minor": 0
      },
      "text/plain": [
       "Capturing traces:   0%|          | 0/60000 [00:00<?, ?it/s]"
      ]
     },
     "metadata": {},
     "output_type": "display_data"
    },
    {
     "name": "stdout",
     "output_type": "stream",
     "text": [
      "Key:  ['0x0', '0x1', '0x2', '0x3', '0x4', '0x5', '0x6', '0x7', '0x8', '0x9', '0xa', '0xb', '0xc', '0xd', '0xe', '0xf']\n"
     ]
    },
    {
     "data": {
      "application/vnd.jupyter.widget-view+json": {
       "model_id": "92b276c356544fb49cebaccd858bd76d",
       "version_major": 2,
       "version_minor": 0
      },
      "text/plain": [
       "Capturing traces:   0%|          | 0/60000 [00:00<?, ?it/s]"
      ]
     },
     "metadata": {},
     "output_type": "display_data"
    },
    {
     "name": "stdout",
     "output_type": "stream",
     "text": [
      "Key:  ['0x0', '0x1', '0x2', '0x3', '0x4', '0x5', '0x6', '0x7', '0x8', '0x9', '0xa', '0xb', '0xc', '0xd', '0xe', '0xf']\n"
     ]
    },
    {
     "data": {
      "application/vnd.jupyter.widget-view+json": {
       "model_id": "dcafad2baa724a86a40bacda47a0640a",
       "version_major": 2,
       "version_minor": 0
      },
      "text/plain": [
       "Capturing traces:   0%|          | 0/60000 [00:00<?, ?it/s]"
      ]
     },
     "metadata": {},
     "output_type": "display_data"
    },
    {
     "name": "stdout",
     "output_type": "stream",
     "text": [
      "Key:  ['0x0', '0x1', '0x2', '0x3', '0x4', '0x5', '0x6', '0x7', '0x8', '0x9', '0xa', '0xb', '0xc', '0xd', '0xe', '0xf']\n"
     ]
    },
    {
     "data": {
      "application/vnd.jupyter.widget-view+json": {
       "model_id": "1c6af87e6553481eb9dc1fbd788289c5",
       "version_major": 2,
       "version_minor": 0
      },
      "text/plain": [
       "Capturing traces:   0%|          | 0/60000 [00:00<?, ?it/s]"
      ]
     },
     "metadata": {},
     "output_type": "display_data"
    },
    {
     "name": "stdout",
     "output_type": "stream",
     "text": [
      "Key:  ['0x0', '0x1', '0x2', '0x3', '0x4', '0x5', '0x6', '0x7', '0x8', '0x9', '0xa', '0xb', '0xc', '0xd', '0xe', '0xf']\n"
     ]
    },
    {
     "data": {
      "application/vnd.jupyter.widget-view+json": {
       "model_id": "de7ba1af22e44376ae25b16861dcc7b1",
       "version_major": 2,
       "version_minor": 0
      },
      "text/plain": [
       "Capturing traces:   0%|          | 0/60000 [00:00<?, ?it/s]"
      ]
     },
     "metadata": {},
     "output_type": "display_data"
    },
    {
     "name": "stdout",
     "output_type": "stream",
     "text": [
      "Key:  ['0x0', '0x1', '0x2', '0x3', '0x4', '0x5', '0x6', '0x7', '0x8', '0x9', '0xa', '0xb', '0xc', '0xd', '0xe', '0xf']\n"
     ]
    },
    {
     "data": {
      "application/vnd.jupyter.widget-view+json": {
       "model_id": "4dcae8ae55fb4be6a86f988662acc92b",
       "version_major": 2,
       "version_minor": 0
      },
      "text/plain": [
       "Capturing traces:   0%|          | 0/60000 [00:00<?, ?it/s]"
      ]
     },
     "metadata": {},
     "output_type": "display_data"
>>>>>>> refs/remotes/origin/main
    }
   ],
   "source": [
    "from tqdm.notebook import tnrange\n",
    "import chipwhisperer as cw\n",
    "from operations_init import ascon_init as ascon\n",
    "\n",
    "# Number of traces to capture\n",
    "N = 60000\n",
    "\n",
    "project_file = \"../../build/sca_test/sca_test_CW305_ascon_init_\" + sub_layer_dict[sub_layer_type] + \"_\" + str(N) + \".cwp\"\n",
    "project = cw.create_project(project_file, overwrite=True)\n",
    "\n",
    "key = 0x000102030405060708090A0B0C0D0E0F\n",
    "key_str = f\"{key:032x}\"\n",
    "key_list = [int(key_str[i:i+2], 16) for i in range(0, len(key_str), 2)]\n",
    "\n",
    "ktp = cw.ktp.Basic()\n",
    "kk, nonce = ktp.next()\n",
    "\n",
    "# Each element of the key is converted to a 2-digit hex string \n",
    "print(\"Key: \", [ hex(subkey) for subkey in key_list])\n",
    "\n",
    "# Write the key to the CW305\n",
    "cw305.set_key(key_list)\n",
    "# Dummy capture call due to bug of using AC coupling\n",
    "cw305.capture_trace_1_round(project, nonce, dummy=True)\n",
    "    \n",
    "for i in tnrange(N, desc='Capturing traces'):\n",
    "    response = cw305.capture_trace_1_round(project, nonce)\n",
    "\n",
    "    # Sanity check with expected ciphertext\n",
    "    state = ascon(key.to_bytes(16,'big'), nonce, \"Ascon-128\", sub_layer_type)\n",
    "    assert (list(state) == list(response)), \"Incorrect encryption result!\\nGot {}\\nExp {}\\n\".format(list(response), list(state))\n",
    "    kk, nonce = ktp.next()\n",
    "\n",
    "project.save()\n",
    "project.close()\n",
    "# Disconnect CW305 and picoscope\n",
    "cw305.dis()\n",
    "ps.dis()\n"
   ]
  }
 ],
 "metadata": {
  "kernelspec": {
   "display_name": "cw",
   "language": "python",
   "name": "python3"
  },
  "language_info": {
   "codemirror_mode": {
    "name": "ipython",
    "version": 3
   },
   "file_extension": ".py",
   "mimetype": "text/x-python",
   "name": "python",
   "nbconvert_exporter": "python",
   "pygments_lexer": "ipython3",
   "version": "3.9.5"
  }
 },
 "nbformat": 4,
 "nbformat_minor": 2
}
