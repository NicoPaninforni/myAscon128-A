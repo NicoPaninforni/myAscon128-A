{
 "cells": [
  {
   "cell_type": "code",
   "execution_count": 1,
   "id": "72d54b83",
   "metadata": {},
   "outputs": [
    {
     "ename": "OSError",
     "evalue": "Could not find ChipWhisperer. Is it connected?",
     "output_type": "error",
     "traceback": [
      "\u001b[0;31m---------------------------------------------------------------------------\u001b[0m",
      "\u001b[0;31mOSError\u001b[0m                                   Traceback (most recent call last)",
      "Cell \u001b[0;32mIn[1], line 4\u001b[0m\n\u001b[1;32m      1\u001b[0m \u001b[38;5;28;01mimport\u001b[39;00m \u001b[38;5;21;01mchipwhisperer\u001b[39;00m \u001b[38;5;28;01mas\u001b[39;00m \u001b[38;5;21;01mcw\u001b[39;00m\n\u001b[1;32m      3\u001b[0m \u001b[38;5;66;03m# Inizializza scope e target\u001b[39;00m\n\u001b[0;32m----> 4\u001b[0m scope \u001b[38;5;241m=\u001b[39m \u001b[43mcw\u001b[49m\u001b[38;5;241;43m.\u001b[39;49m\u001b[43mscope\u001b[49m\u001b[43m(\u001b[49m\u001b[43m)\u001b[49m\n\u001b[1;32m      5\u001b[0m target \u001b[38;5;241m=\u001b[39m cw\u001b[38;5;241m.\u001b[39mtarget(scope)\n\u001b[1;32m      7\u001b[0m \u001b[38;5;66;03m# Percorso corretto del tuo bitstream\u001b[39;00m\n",
      "File \u001b[0;32m~/.pyenv/versions/3.9.5/lib/python3.9/site-packages/chipwhisperer/__init__.py:397\u001b[0m, in \u001b[0;36mscope\u001b[0;34m(scope_type, name, sn, idProduct, bitstream, force, prog_speed, **kwargs)\u001b[0m\n\u001b[1;32m    394\u001b[0m         \u001b[38;5;28;01mraise\u001b[39;00m \u001b[38;5;167;01mValueError\u001b[39;00m\n\u001b[1;32m    396\u001b[0m \u001b[38;5;28;01mif\u001b[39;00m scope_type \u001b[38;5;129;01mis\u001b[39;00m \u001b[38;5;28;01mNone\u001b[39;00m:\n\u001b[0;32m--> 397\u001b[0m     scope_type \u001b[38;5;241m=\u001b[39m \u001b[43mget_cw_type\u001b[49m\u001b[43m(\u001b[49m\u001b[38;5;241;43m*\u001b[39;49m\u001b[38;5;241;43m*\u001b[39;49m\u001b[43mkwargs\u001b[49m\u001b[43m)\u001b[49m\n\u001b[1;32m    398\u001b[0m rtn : scopes\u001b[38;5;241m.\u001b[39mScopeTypes \u001b[38;5;241m=\u001b[39m scope_type()\n\u001b[1;32m    399\u001b[0m \u001b[38;5;28;01mtry\u001b[39;00m:\n",
      "File \u001b[0;32m~/.pyenv/versions/3.9.5/lib/python3.9/site-packages/chipwhisperer/common/utils/util.py:578\u001b[0m, in \u001b[0;36mget_cw_type\u001b[0;34m(sn, idProduct, hw_location, **kwargs)\u001b[0m\n\u001b[1;32m    575\u001b[0m     possible_ids \u001b[38;5;241m=\u001b[39m [\u001b[38;5;241m0xace0\u001b[39m, \u001b[38;5;241m0xace2\u001b[39m, \u001b[38;5;241m0xace3\u001b[39m, \u001b[38;5;241m0xace5\u001b[39m, \u001b[38;5;241m0xace6\u001b[39m]\n\u001b[1;32m    577\u001b[0m cwusb \u001b[38;5;241m=\u001b[39m NAEUSB_Backend()\n\u001b[0;32m--> 578\u001b[0m device \u001b[38;5;241m=\u001b[39m \u001b[43mcwusb\u001b[49m\u001b[38;5;241;43m.\u001b[39;49m\u001b[43mfind\u001b[49m\u001b[43m(\u001b[49m\u001b[43mserial_number\u001b[49m\u001b[38;5;241;43m=\u001b[39;49m\u001b[43msn\u001b[49m\u001b[43m,\u001b[49m\u001b[43m \u001b[49m\u001b[43midProduct\u001b[49m\u001b[38;5;241;43m=\u001b[39;49m\u001b[43mpossible_ids\u001b[49m\u001b[43m,\u001b[49m\u001b[43m \u001b[49m\u001b[43mhw_location\u001b[49m\u001b[38;5;241;43m=\u001b[39;49m\u001b[43mhw_location\u001b[49m\u001b[43m)\u001b[49m\n\u001b[1;32m    579\u001b[0m name \u001b[38;5;241m=\u001b[39m device\u001b[38;5;241m.\u001b[39mgetProduct()\n\u001b[1;32m    580\u001b[0m cwusb\u001b[38;5;241m.\u001b[39musb_ctx\u001b[38;5;241m.\u001b[39mclose()\n",
      "File \u001b[0;32m~/.pyenv/versions/3.9.5/lib/python3.9/site-packages/chipwhisperer/hardware/naeusb/naeusb.py:415\u001b[0m, in \u001b[0;36mNAEUSB_Backend.find\u001b[0;34m(self, serial_number, idProduct, hw_location)\u001b[0m\n\u001b[1;32m    413\u001b[0m dev_list \u001b[38;5;241m=\u001b[39m \u001b[38;5;28mself\u001b[39m\u001b[38;5;241m.\u001b[39mget_possible_devices(idProduct, attempt_access\u001b[38;5;241m=\u001b[39m(\u001b[38;5;129;01mnot\u001b[39;00m hw_location))\n\u001b[1;32m    414\u001b[0m \u001b[38;5;28;01mif\u001b[39;00m \u001b[38;5;28mlen\u001b[39m(dev_list) \u001b[38;5;241m==\u001b[39m \u001b[38;5;241m0\u001b[39m:\n\u001b[0;32m--> 415\u001b[0m     \u001b[38;5;28;01mraise\u001b[39;00m \u001b[38;5;167;01mOSError\u001b[39;00m(\u001b[38;5;124m\"\u001b[39m\u001b[38;5;124mCould not find ChipWhisperer. Is it connected?\u001b[39m\u001b[38;5;124m\"\u001b[39m)\n\u001b[1;32m    417\u001b[0m \u001b[38;5;66;03m# if more than one CW, we require a serial number\u001b[39;00m\n\u001b[1;32m    418\u001b[0m \u001b[38;5;28;01mif\u001b[39;00m hw_location:\n",
      "\u001b[0;31mOSError\u001b[0m: Could not find ChipWhisperer. Is it connected?"
     ]
    }
   ],
   "source": [
    "import chipwhisperer as cw\n",
    "\n",
    "# Inizializza scope e target\n",
    "scope = cw.scope()\n",
    "target = cw.target(scope)\n",
    "\n",
    "# Percorso corretto del tuo bitstream\n",
    "bitstream_path = \"../../../bitstreams/myascon_ascon_top_1.0.0_0.bit\"\n",
    "\n",
    "# Carica il bitstream nella FPGA\n",
    "scope.fpga.load_bitstream(bitstream_path)\n",
    "\n",
    "print(\"✅ Bitstream caricato correttamente sulla FPGA.\")\n"
   ]
  }
 ],
 "metadata": {
  "kernelspec": {
   "display_name": "Python 3",
   "language": "python",
   "name": "python3"
  },
  "language_info": {
   "codemirror_mode": {
    "name": "ipython",
    "version": 3
   },
   "file_extension": ".py",
   "mimetype": "text/x-python",
   "name": "python",
   "nbconvert_exporter": "python",
   "pygments_lexer": "ipython3",
   "version": "3.9.5"
  }
 },
 "nbformat": 4,
 "nbformat_minor": 5
}
